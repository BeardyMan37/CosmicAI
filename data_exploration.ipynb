{
 "cells": [
  {
   "cell_type": "markdown",
   "metadata": {},
   "source": [
    "# Importation"
   ]
  },
  {
   "cell_type": "code",
   "execution_count": null,
   "metadata": {
    "ExecuteTime": {
     "end_time": "2025-04-25T00:10:08.262610Z",
     "start_time": "2025-04-25T00:10:07.335547Z"
    }
   },
   "outputs": [],
   "source": [
    "import pandas as pd\n",
    "import numpy as np\n",
    "if not hasattr(np, 'unicode_'):\n",
    "    np.unicode_ = str\n",
    "import ast\n",
    "import os\n",
    "import math\n",
    "import plotly.express as px\n",
    "import matplotlib.pyplot as plt\n",
    "from typing import Dict, Tuple, List\n",
    "from scipy.signal import chirp, find_peaks, peak_widths"
   ]
  },
  {
   "cell_type": "code",
   "execution_count": null,
   "metadata": {
    "ExecuteTime": {
     "end_time": "2025-04-25T00:10:13.500280Z",
     "start_time": "2025-04-25T00:10:08.671606Z"
    }
   },
   "outputs": [],
   "source": [
    "cosmicai_path = 'Data'\n",
    "\n",
    "df = pd.read_parquet(f'{cosmicai_path}/bandpass_qa0_no_partitions.parquet')"
   ]
  },
  {
   "cell_type": "code",
   "execution_count": null,
   "metadata": {
    "ExecuteTime": {
     "end_time": "2025-04-25T00:10:14.213380Z",
     "start_time": "2025-04-25T00:10:14.075176Z"
    }
   },
   "outputs": [],
   "source": [
    "df.info()"
   ]
  },
  {
   "cell_type": "markdown",
   "metadata": {},
   "source": [
    "| N    |  Column Name             | Description   |              \n",
    "| :--- | :----                    |          ---: |\n",
    "| 0    | eb_uid              | Unique ID for one execution |\n",
    "| 1    | cal_data_id         | Calibration Data ID  |             \n",
    "| 2    | cal_reduction_id    | Calibration Reduction ID |\n",
    "| 3    | start_valid_time    | Start Time for a bandpass observation |\n",
    "| 4    | receiver_band       | ALMA Band used |\n",
    "| 5    | ref_antenna_name    | Reference Antenna used for Bandpass calculation |       \n",
    "| 6    | antenna             | Antenna for which the Bandpass solution is produced |\n",
    "| 7    | polarization        | Reciever Polarization |\n",
    "| 8    | sideband            | Reciever Sideband |\n",
    "| 9    | baseband_name       | Baseband Name |\n",
    "| 10   | spw_name            | Spectral Window Name |\n",
    "| 11   | frequency_array     | Array with frequency dimension, Hz |\n",
    "| 12   | amplitude_corr_tsys | Array with the amplitude dimension, corrected by Tsys (units?) |\n",
    "| 13   | phase_norm_wrap     | Array with the phase dimension, normalized and wrapped, in radians |"
   ]
  },
  {
   "cell_type": "code",
   "execution_count": null,
   "metadata": {},
   "outputs": [],
   "source": [
    "df.head(10)"
   ]
  },
  {
   "cell_type": "code",
   "execution_count": null,
   "metadata": {},
   "outputs": [],
   "source": [
    "for length, grp in df.groupby(\n",
    "        df['frequency_array'].str.len()\n",
    "    ):\n",
    "    print('length: ', str(length) + ', size:', len(grp))"
   ]
  },
  {
   "cell_type": "markdown",
   "metadata": {},
   "source": [
    "# Demonstration"
   ]
  },
  {
   "cell_type": "code",
   "execution_count": null,
   "metadata": {
    "ExecuteTime": {
     "end_time": "2025-04-25T00:10:26.601964Z",
     "start_time": "2025-04-25T00:10:26.590874Z"
    }
   },
   "outputs": [],
   "source": [
    "bandpass_sel_df = df.query('eb_uid == \"uid://A002/Xff45a6/X4435\"').copy()"
   ]
  },
  {
   "cell_type": "code",
   "execution_count": null,
   "metadata": {
    "ExecuteTime": {
     "end_time": "2025-04-25T00:10:29.435940Z",
     "start_time": "2025-04-25T00:10:28.744295Z"
    }
   },
   "outputs": [],
   "source": [
    "fig1 = px.scatter(\n",
    "    x = bandpass_sel_df.iloc[0]['frequency_array'],\n",
    "    y = bandpass_sel_df.iloc[0]['amplitude_corr_tsys'],\n",
    "    render_mode='webgl', range_y=[0, 0.02], \n",
    "    labels={'x': 'Frequency [Hz]', 'y': 'Amplitude [?]'}\n",
    ")\n",
    "fig1"
   ]
  },
  {
   "cell_type": "code",
   "execution_count": null,
   "metadata": {
    "ExecuteTime": {
     "end_time": "2025-04-25T00:10:36.178924Z",
     "start_time": "2025-04-25T00:10:36.137825Z"
    },
    "scrolled": false
   },
   "outputs": [],
   "source": [
    "fig1 = px.scatter(\n",
    "    x = bandpass_sel_df.iloc[20]['frequency_array'],\n",
    "    y = bandpass_sel_df.iloc[20]['phase_norm_wrap'],\n",
    "    render_mode='webgl', range_y=[-np.pi, np.pi], \n",
    "    labels={'x': 'Frequency [Hz]', 'y': 'Phase [rad]'}\n",
    ")\n",
    "fig1"
   ]
  },
  {
   "cell_type": "code",
   "execution_count": null,
   "metadata": {
    "ExecuteTime": {
     "end_time": "2025-04-25T00:11:03.482805Z",
     "start_time": "2025-04-25T00:11:02.943025Z"
    }
   },
   "outputs": [],
   "source": [
    "bandpass_explode_df = bandpass_sel_df.explode(['frequency_array','amplitude_corr_tsys','phase_norm_wrap'])\n",
    "\n",
    "bandpass_explode_df['label'] = bandpass_explode_df.apply(\n",
    "    lambda x: f'{x[\"antenna\"]}, {x[\"spw_name\"]}, pol {x[\"polarization\"]}', axis=1)"
   ]
  },
  {
   "cell_type": "code",
   "execution_count": null,
   "metadata": {
    "ExecuteTime": {
     "end_time": "2025-04-25T00:11:09.551269Z",
     "start_time": "2025-04-25T00:11:08.160639Z"
    }
   },
   "outputs": [],
   "source": [
    "fig2 = px.scatter(\n",
    "    bandpass_explode_df,\n",
    "    x='frequency_array', \n",
    "    y='amplitude_corr_tsys',\n",
    "    color='label', render_mode='webgl',\n",
    ")\n",
    "fig2.update_traces(mode='lines', opacity=0.5)"
   ]
  },
  {
   "cell_type": "code",
   "execution_count": null,
   "metadata": {
    "ExecuteTime": {
     "end_time": "2025-04-25T00:11:18.936011Z",
     "start_time": "2025-04-25T00:11:18.848279Z"
    }
   },
   "outputs": [],
   "source": [
    "fig2 = px.line(\n",
    "    bandpass_explode_df.query('antenna == [\"DV24\", \"DA46\", \"DV09\"] and spw_name == \"SpectralWindow_68\"'),\n",
    "    x='frequency_array', \n",
    "    y='amplitude_corr_tsys',\n",
    "    color='label', render_mode='webgl'\n",
    ")\n",
    "fig2"
   ]
  },
  {
   "cell_type": "code",
   "execution_count": null,
   "metadata": {
    "ExecuteTime": {
     "end_time": "2025-04-25T00:11:23.198362Z",
     "start_time": "2025-04-25T00:11:23.123989Z"
    }
   },
   "outputs": [],
   "source": [
    "fig2 = px.line(\n",
    "    bandpass_explode_df.query('antenna == \"DA64\"'),\n",
    "    x='frequency_array', \n",
    "    y='amplitude_corr_tsys',\n",
    "    color='label', render_mode='webgl'\n",
    ")\n",
    "fig2"
   ]
  },
  {
   "cell_type": "code",
   "execution_count": null,
   "metadata": {
    "ExecuteTime": {
     "end_time": "2025-04-25T00:11:26.750469Z",
     "start_time": "2025-04-25T00:11:26.679297Z"
    }
   },
   "outputs": [],
   "source": [
    "fig2 = px.line(\n",
    "    bandpass_explode_df.query('antenna == \"DV09\"'),\n",
    "    x='frequency_array', \n",
    "    y='amplitude_corr_tsys',\n",
    "    color='label', render_mode='webgl'\n",
    ")\n",
    "fig2"
   ]
  },
  {
   "cell_type": "code",
   "execution_count": null,
   "metadata": {
    "ExecuteTime": {
     "end_time": "2025-04-25T00:11:30.488105Z",
     "start_time": "2025-04-25T00:11:30.415522Z"
    }
   },
   "outputs": [],
   "source": [
    "fig2 = px.line(\n",
    "    bandpass_explode_df.query('antenna == \"DA59\"'),\n",
    "    x='frequency_array', \n",
    "    y='amplitude_corr_tsys',\n",
    "    color='label', render_mode='webgl'\n",
    ")\n",
    "fig2"
   ]
  },
  {
   "cell_type": "code",
   "execution_count": null,
   "metadata": {
    "ExecuteTime": {
     "end_time": "2025-04-25T00:11:33.851643Z",
     "start_time": "2025-04-25T00:11:33.746631Z"
    }
   },
   "outputs": [],
   "source": [
    "fig2 = px.line(\n",
    "    bandpass_explode_df.query('antenna == [\"DA61\", \"DV03\"]'),\n",
    "    x='frequency_array', \n",
    "    y='phase_norm_wrap',\n",
    "    color='label', render_mode='webgl'\n",
    ")\n",
    "fig2"
   ]
  },
  {
   "cell_type": "markdown",
   "metadata": {},
   "source": [
    "# Data Analysis"
   ]
  },
  {
   "cell_type": "code",
   "execution_count": null,
   "metadata": {},
   "outputs": [],
   "source": [
    "actual_specs = [np.array(x, dtype=float)\n",
    "                 for x in df['amplitude_corr_tsys'].tolist()]"
   ]
  },
  {
   "cell_type": "code",
   "execution_count": null,
   "metadata": {},
   "outputs": [],
   "source": [
    "freqs = [np.array(x, dtype=float)\n",
    "                 for x in df['frequency_array'].tolist()]"
   ]
  },
  {
   "cell_type": "code",
   "execution_count": null,
   "metadata": {},
   "outputs": [],
   "source": [
    "eb_uid = df['eb_uid']\n",
    "antenna = df['antenna']\n",
    "spw_name_ms = df['spw_name_ms']\n",
    "polarization = df['polarization']"
   ]
  },
  {
   "cell_type": "code",
   "execution_count": null,
   "metadata": {},
   "outputs": [],
   "source": [
    "length_groups: Dict[int, List[int]] = {}\n",
    "for i, s in enumerate(actual_specs):\n",
    "    L = s.shape[0]\n",
    "    length_groups.setdefault(L, []).append(i)"
   ]
  },
  {
   "cell_type": "code",
   "execution_count": null,
   "metadata": {},
   "outputs": [],
   "source": [
    "result: Dict[int, Tuple[np.ndarray, ...]] = {}\n",
    "for L, idxs in length_groups.items():\n",
    "    actual_specs_L = np.vstack([actual_specs[i] for i in idxs])\n",
    "    freqs_L = np.vstack([freqs[i] for i in idxs])\n",
    "    eb_uid_L = eb_uid[idxs]\n",
    "    antenna_L = antenna[idxs]\n",
    "    spw_name_ms_L = spw_name_ms[idxs]\n",
    "    polarization_L = polarization[idxs]\n",
    "    result[L] = (actual_specs_L, freqs_L, eb_uid_L, antenna_L, spw_name_ms_L, polarization_L)"
   ]
  },
  {
   "cell_type": "code",
   "execution_count": null,
   "metadata": {},
   "outputs": [],
   "source": [
    "print(f\"Found lengths: {sorted(result.keys())}\")"
   ]
  },
  {
   "cell_type": "code",
   "execution_count": null,
   "metadata": {},
   "outputs": [],
   "source": [
    "lengths, step_means, step_stds, span_means, span_stds = [], [], [], [], []\n",
    " \n",
    "for length in sorted(result):\n",
    "    actual_specs_L, freqs_L, eb_uid_L, antenna_L, spw_name_ms_L, polarization_L = result[length]\n",
    "    print('Analyzing channel length of', length)\n",
    "    lengths.extend(lengths)\n",
    "    freq_step = abs(freqs_L[:, 1] - freqs_L[:, 0])\n",
    "    freq_span = abs(freqs_L[:, -1] - freqs_L[:, 0])\n",
    "    for name, arr in [(\"Step\", freq_step)]:\n",
    "        print(f\"--- {name} ---\")\n",
    "        print(\"  count:\", arr.size)\n",
    "        print(\"    mean:    \", np.mean(arr) / 1e6, \"Mhz\")\n",
    "        print(\"    std:     \", np.std(arr) / 1e6, \"Mhz\")\n",
    "        print(\"    min/max: \", np.min(arr) / 1e6, \"Mhz\", np.max(arr) / 1e6, \"Mhz\")\n",
    "        print(\"    median:  \", np.median(arr) / 1e6, \"Mhz\")\n",
    "        print(\"    25/75%:  \", np.percentile(arr, [25, 75]) / 1e6, \"Mhz\")\n",
    "        print()"
   ]
  },
  {
   "cell_type": "markdown",
   "metadata": {},
   "source": [
    "# Experimentation"
   ]
  },
  {
   "cell_type": "code",
   "execution_count": null,
   "metadata": {},
   "outputs": [],
   "source": [
    "trans_df = pd.read_parquet(f'{cosmicai_path}/full_spectrum.gzip')"
   ]
  },
  {
   "cell_type": "code",
   "execution_count": null,
   "metadata": {},
   "outputs": [],
   "source": [
    "df['frequency_array'] = df['frequency_array'] \\\n",
    "    .apply(lambda freqs: [f/1e9 for f in freqs])"
   ]
  },
  {
   "cell_type": "code",
   "execution_count": null,
   "metadata": {},
   "outputs": [],
   "source": [
    "df['frequency_array']"
   ]
  },
  {
   "cell_type": "code",
   "execution_count": null,
   "metadata": {},
   "outputs": [],
   "source": [
    "trans_freqs = trans_df['Frequency (GHz)'].values\n",
    "trans_vals  = trans_df['Transmission (%)'].values"
   ]
  },
  {
   "cell_type": "code",
   "execution_count": null,
   "metadata": {},
   "outputs": [],
   "source": [
    "def match_and_correct(freq_array):\n",
    "    idxs = np.searchsorted(trans_freqs, freq_array)\n",
    "    idxs[idxs == len(trans_freqs)] = len(trans_freqs) - 1\n",
    "    left  = np.maximum(idxs - 1, 0)\n",
    "    right = idxs\n",
    "    dl = np.abs(freq_array - trans_freqs[left])\n",
    "    dr = np.abs(trans_freqs[right] - freq_array)\n",
    "    nearest = np.where(dl <= dr, left, right)\n",
    "    mt = trans_vals[nearest]\n",
    "    return mt"
   ]
  },
  {
   "cell_type": "code",
   "execution_count": null,
   "metadata": {},
   "outputs": [],
   "source": [
    "results = df.apply(\n",
    "    lambda row: match_and_correct(\n",
    "        np.array(row['frequency_array'], dtype=float)\n",
    "    ),\n",
    "    axis=1\n",
    ")"
   ]
  },
  {
   "cell_type": "code",
   "execution_count": null,
   "metadata": {},
   "outputs": [],
   "source": [
    "df['transmission_array'] = results"
   ]
  },
  {
   "cell_type": "code",
   "execution_count": null,
   "metadata": {},
   "outputs": [],
   "source": [
    "plt.figure(figsize=(100, 20))\n",
    "plt.plot(trans_freqs, trans_vals, marker='o')\n",
    "plt.xlabel('Frequency (GHz)')\n",
    "plt.ylabel('Transmission (%)')\n",
    "plt.title('Transmission vs Frequency')\n",
    "plt.grid(True)\n",
    "plt.show()"
   ]
  },
  {
   "cell_type": "code",
   "execution_count": null,
   "metadata": {},
   "outputs": [],
   "source": [
    "interference = []\n",
    "for index in range(len(df)):\n",
    "    freqs = np.array(df.iloc[index, 11])\n",
    "    trans = np.array(df.iloc[index, 14])\n",
    "\n",
    "    troguhs, props = find_peaks(-trans, prominence=1)\n",
    "    widths_samples, _, left_ips, right_ips = peak_widths(-trans, troguhs, rel_height=0.75)\n",
    "\n",
    "    left_freqs  = np.interp(left_ips,  np.arange(len(freqs)), freqs)\n",
    "    right_freqs = np.interp(right_ips, np.arange(len(freqs)), freqs)\n",
    "    widths_freq = right_freqs - left_freqs\n",
    "\n",
    "    trough_freqs  = freqs[troguhs]\n",
    "    trough_depths = props['prominences']\n",
    "\n",
    "    trough_ranges = []\n",
    "    for i in range(len(trough_freqs)):\n",
    "        trough_ranges.append((trough_freqs[i] - widths_freq[i] / 2, trough_freqs[i] + widths_freq[i] / 2))\n",
    "\n",
    "    trough_ranges = np.array(trough_ranges)\n",
    "\n",
    "    closest_idxs = []\n",
    "\n",
    "    for troguhs_range in trough_ranges:\n",
    "        start, end = troguhs_range[0], troguhs_range[1]\n",
    "        closest_start_idx = int(np.abs(freqs - start).argmin())\n",
    "        closest_end_idx = int(np.abs(freqs - end).argmin())\n",
    "        closest_idxs.append((closest_start_idx, closest_end_idx))\n",
    "\n",
    "    interference.append(closest_idxs)"
   ]
  },
  {
   "cell_type": "code",
   "execution_count": null,
   "metadata": {},
   "outputs": [],
   "source": [
    "index = 300\n",
    "freqs = np.array(df.iloc[index, 11])\n",
    "trans = np.array(df.iloc[index, 14])\n",
    "# coeffs = np.polyfit(freqs, trans, 2)\n",
    "# poly = np.poly1d(coeffs)\n",
    "# fitted = poly(freqs)\n",
    "\n",
    "plt.figure(figsize=(8,5))\n",
    "plt.plot(range(len(freqs)), trans, 'o', label='Data')\n",
    "# plt.plot(freqs, fitted, '-', label='Degree-3 fit')\n",
    "plt.xlabel('Frequency (GHz)')\n",
    "plt.ylabel('Transmission (%)')\n",
    "plt.title('Quadratic Fit to Transmission')\n",
    "plt.legend()\n",
    "plt.grid(True)\n",
    "plt.show()"
   ]
  },
  {
   "cell_type": "code",
   "execution_count": null,
   "metadata": {},
   "outputs": [],
   "source": [
    "peaks_df = pd.read_parquet(f'{cosmicai_path}/all_peaks_widths_heights.gzip')"
   ]
  },
  {
   "cell_type": "code",
   "execution_count": null,
   "metadata": {},
   "outputs": [],
   "source": [
    "peaks  = peaks_df['Peaks (GHz)'].values\n",
    "widths = peaks_df['Widths'].values\n",
    "peak_ranges = np.column_stack((peaks - widths / 2, peaks + widths / 2))\n",
    "peak_ranges_mid_points = np.array([float(start + end) / 2 for start, end in peak_ranges])"
   ]
  },
  {
   "cell_type": "code",
   "execution_count": null,
   "metadata": {},
   "outputs": [],
   "source": [
    "freq_ranges = np.array([\n",
    "    [float(min(x)), float(max(x))]\n",
    "    for x in df['frequency_array'].tolist()\n",
    "])\n",
    "freq_ranges_mid_points = np.array([float(start + end) / 2 for start, end in freq_ranges])"
   ]
  },
  {
   "cell_type": "code",
   "execution_count": null,
   "metadata": {},
   "outputs": [],
   "source": [
    "for idx, freq_points in enumerate(freq_ranges_mid_points):\n",
    "    closest_idx = int(np.abs(peak_ranges_mid_points - freq_points).argmin())\n",
    "    freqs = freq_ranges[idx]\n",
    "    peaks = peak_ranges[closest_idx]\n",
    "    start = max(freqs[0], peaks[0])\n",
    "    end   = min(freqs[1], peaks[1])"
   ]
  },
  {
   "cell_type": "code",
   "execution_count": null,
   "metadata": {},
   "outputs": [],
   "source": [
    "df['atmospheric_interference'] = interference"
   ]
  },
  {
   "cell_type": "code",
   "execution_count": null,
   "metadata": {},
   "outputs": [],
   "source": [
    "df.to_csv(\n",
    "    f'{cosmicai_path}/bandpass_augmented.csv',\n",
    "    index=False\n",
    ")"
   ]
  },
  {
   "cell_type": "markdown",
   "metadata": {},
   "source": [
    "# Debugging"
   ]
  },
  {
   "cell_type": "code",
   "execution_count": null,
   "metadata": {},
   "outputs": [],
   "source": [
    "cosmicai_path = 'Data'\n",
    "\n",
    "df_scored = pd.read_parquet(f'{cosmicai_path}/bandpass_qa0_no_partitions_labelled_filt_scored.parquet')"
   ]
  },
  {
   "cell_type": "code",
   "execution_count": null,
   "metadata": {},
   "outputs": [],
   "source": [
    "df_scored.info()"
   ]
  },
  {
   "cell_type": "code",
   "execution_count": null,
   "metadata": {},
   "outputs": [],
   "source": [
    "df_scored['win_span'] = ((df_scored['win_end'] - df_scored['win_start']).abs() * (df_scored['frequency_array'].str[1] - df_scored['frequency_array'].str[0])).abs()"
   ]
  },
  {
   "cell_type": "code",
   "execution_count": null,
   "metadata": {},
   "outputs": [],
   "source": [
    "df_scored.info()"
   ]
  },
  {
   "cell_type": "code",
   "execution_count": null,
   "metadata": {},
   "outputs": [],
   "source": [
    "df_scored_filtered_special = df_scored[df_scored['win_span'] == 31250000.0]"
   ]
  },
  {
   "cell_type": "code",
   "execution_count": null,
   "metadata": {},
   "outputs": [],
   "source": [
    "df_sorted_special = (\n",
    "    df_scored_filtered_special\n",
    "    .assign(freq_len = df_scored_filtered_special['frequency_array'].str.len())\n",
    "    .sort_values(\n",
    "        by=[ 'freq_len', 'score' ],\n",
    "        ascending=[ True,    False ]\n",
    "    )\n",
    "    .drop(columns='freq_len')\n",
    "    .reset_index(drop=True)\n",
    ")"
   ]
  },
  {
   "cell_type": "code",
   "execution_count": null,
   "metadata": {},
   "outputs": [],
   "source": [
    "per_fig = 10\n",
    "out_dir = 'Images/Special'\n",
    "os.makedirs(out_dir, exist_ok=True)"
   ]
  },
  {
   "cell_type": "code",
   "execution_count": null,
   "metadata": {},
   "outputs": [],
   "source": [
    "for length, grp in df_sorted_special.groupby(\n",
    "        df_sorted_special['frequency_array'].str.len()\n",
    "    ):\n",
    "    n = len(grp)\n",
    "    n_figs = math.ceil(n / per_fig)\n",
    "    chunk = grp.iloc[fig_i*per_fig:(fig_i+1)*per_fig]\n",
    "    fig_k = len(chunk)\n",
    "    for fig_i in range(n_figs):\n",
    "        chunk = grp.iloc[fig_i*per_fig:min((fig_i+1)*per_fig, len(grp))]\n",
    "        fig_k = len(chunk)\n",
    "        fig, axes = plt.subplots(fig_k, 1, figsize=(10, 3*fig_k))\n",
    "        if fig_k == 1:\n",
    "            axes = [axes]\n",
    "        for ax, row in zip(axes, chunk.itertuples()):\n",
    "            spec = row.amplitude_corr_tsys\n",
    "            a, b = row.win_start, row.win_end\n",
    "            atm_interfs = ast.literal_eval(row.atmospheric_interference)\n",
    "\n",
    "            if len(atm_interfs) != 0:\n",
    "                for item in atm_interfs:\n",
    "                    c, d = item[0], item[1]\n",
    "                    ax.axvspan(c, d, color='C9', alpha=0.2)\n",
    "\n",
    "            x = np.arange(len(spec))\n",
    "            ax.plot(x, spec, color='C0', label=\"Actual\")\n",
    "\n",
    "            ax.axvspan(a, b, color='C1', alpha=0.3)\n",
    "\n",
    "            ax.set_title(\n",
    "                f\"eb_uid={row.eb_uid}, antenna={row.antenna}, polarization={row.polarization}, spw_name_ms={row.spw_name_ms}, score={row.score:.2f}, Range=[{a},{b}]\"\n",
    "            )\n",
    "            ax.set_xlabel(\"Channel\")\n",
    "            ax.set_ylabel(\"Amplitude\")\n",
    "            ax.legend()\n",
    "        plt.tight_layout(rect=[0,0,1,0.92])\n",
    "        plt.suptitle(f\"Items {fig_i*per_fig+1}–{fig_i*per_fig+fig_k}.\", y=0.98)\n",
    "        outpath = os.path.join(out_dir, f\"length_{length}_fig{fig_i+1}.png\")\n",
    "        plt.savefig(outpath, dpi=500, bbox_inches=\"tight\")\n",
    "        plt.close(fig)\n",
    "        if fig_i == 9:\n",
    "            break"
   ]
  },
  {
   "cell_type": "code",
   "execution_count": null,
   "metadata": {},
   "outputs": [],
   "source": []
  }
 ],
 "metadata": {
  "analyzedDataset": "asdm_bandpass_qa0",
  "createdOn": 1743190112265,
  "creator": "ignacio.toledo",
  "customFields": {},
  "hide_input": false,
  "kernelspec": {
   "display_name": "CosmicAI",
   "language": "python",
   "name": "python3"
  },
  "language_info": {
   "codemirror_mode": {
    "name": "ipython",
    "version": 3
   },
   "file_extension": ".py",
   "mimetype": "text/x-python",
   "name": "python",
   "nbconvert_exporter": "python",
   "pygments_lexer": "ipython3",
   "version": "3.8.20"
  },
  "modifiedBy": "ignacio.toledo",
  "tags": []
 },
 "nbformat": 4,
 "nbformat_minor": 1
}
