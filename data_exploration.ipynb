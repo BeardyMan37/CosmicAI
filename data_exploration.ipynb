{
 "cells": [
  {
   "cell_type": "markdown",
   "metadata": {},
   "source": [
    "# Importation"
   ]
  },
  {
   "cell_type": "code",
   "execution_count": 1,
   "metadata": {
    "ExecuteTime": {
     "end_time": "2025-04-25T00:10:08.262610Z",
     "start_time": "2025-04-25T00:10:07.335547Z"
    }
   },
   "outputs": [],
   "source": [
    "import pandas as pd\n",
    "import re\n",
    "import numpy as np\n",
    "if not hasattr(np, 'unicode_'):\n",
    "    np.unicode_ = str\n",
    "import ast\n",
    "import os\n",
    "import math\n",
    "import plotly.express as px\n",
    "import matplotlib.pyplot as plt\n",
    "from pathlib import Path\n",
    "from typing import Dict, Tuple, List\n",
    "from scipy.signal import chirp, find_peaks, peak_widths"
   ]
  },
  {
   "cell_type": "code",
   "execution_count": 2,
   "metadata": {
    "ExecuteTime": {
     "end_time": "2025-04-25T00:10:13.500280Z",
     "start_time": "2025-04-25T00:10:08.671606Z"
    }
   },
   "outputs": [],
   "source": [
    "cosmicai_path = 'Data'\n",
    "\n",
    "df = pd.read_parquet(f'{cosmicai_path}/bandpass_qa0_no_partitions_labelled_filt.parquet')\n",
    "df.reset_index(drop=True, inplace=True)"
   ]
  },
  {
   "cell_type": "code",
   "execution_count": 3,
   "metadata": {
    "ExecuteTime": {
     "end_time": "2025-04-25T00:10:14.213380Z",
     "start_time": "2025-04-25T00:10:14.075176Z"
    }
   },
   "outputs": [
    {
     "name": "stdout",
     "output_type": "stream",
     "text": [
      "<class 'pandas.core.frame.DataFrame'>\n",
      "RangeIndex: 56024 entries, 0 to 56023\n",
      "Data columns (total 16 columns):\n",
      " #   Column               Non-Null Count  Dtype              \n",
      "---  ------               --------------  -----              \n",
      " 0   eb_uid               56024 non-null  object             \n",
      " 1   cal_data_id          56024 non-null  object             \n",
      " 2   cal_reduction_id     56024 non-null  object             \n",
      " 3   start_valid_time     56024 non-null  datetime64[ns, UTC]\n",
      " 4   receiver_band        56024 non-null  object             \n",
      " 5   ref_antenna_name     56024 non-null  object             \n",
      " 6   antenna              56024 non-null  object             \n",
      " 7   polarization         56024 non-null  object             \n",
      " 8   sideband             56024 non-null  object             \n",
      " 9   baseband_name        56024 non-null  object             \n",
      " 10  spw_name             56024 non-null  object             \n",
      " 11  spw_name_ms          56024 non-null  object             \n",
      " 12  frequency_array      56024 non-null  object             \n",
      " 13  amplitude_corr_tsys  56024 non-null  object             \n",
      " 14  phase_norm_wrap      56024 non-null  object             \n",
      " 15  QA2 Flag(s)          56024 non-null  object             \n",
      "dtypes: datetime64[ns, UTC](1), object(15)\n",
      "memory usage: 6.8+ MB\n"
     ]
    }
   ],
   "source": [
    "df.info()"
   ]
  },
  {
   "cell_type": "markdown",
   "metadata": {},
   "source": [
    "| N    |  Column Name             | Description   |              \n",
    "| :--- | :----                    |          ---: |\n",
    "| 0    | eb_uid              | Unique ID for one execution |\n",
    "| 1    | cal_data_id         | Calibration Data ID  |             \n",
    "| 2    | cal_reduction_id    | Calibration Reduction ID |\n",
    "| 3    | start_valid_time    | Start Time for a bandpass observation |\n",
    "| 4    | receiver_band       | ALMA Band used |\n",
    "| 5    | ref_antenna_name    | Reference Antenna used for Bandpass calculation |       \n",
    "| 6    | antenna             | Antenna for which the Bandpass solution is produced |\n",
    "| 7    | polarization        | Reciever Polarization |\n",
    "| 8    | sideband            | Reciever Sideband |\n",
    "| 9    | baseband_name       | Baseband Name |\n",
    "| 10   | spw_name            | Spectral Window Name |\n",
    "| 11   | frequency_array     | Array with frequency dimension, Hz |\n",
    "| 12   | amplitude_corr_tsys | Array with the amplitude dimension, corrected by Tsys (units?) |\n",
    "| 13   | phase_norm_wrap     | Array with the phase dimension, normalized and wrapped, in radians |"
   ]
  },
  {
   "cell_type": "code",
   "execution_count": 4,
   "metadata": {},
   "outputs": [
    {
     "data": {
      "text/html": [
       "<div>\n",
       "<style scoped>\n",
       "    .dataframe tbody tr th:only-of-type {\n",
       "        vertical-align: middle;\n",
       "    }\n",
       "\n",
       "    .dataframe tbody tr th {\n",
       "        vertical-align: top;\n",
       "    }\n",
       "\n",
       "    .dataframe thead th {\n",
       "        text-align: right;\n",
       "    }\n",
       "</style>\n",
       "<table border=\"1\" class=\"dataframe\">\n",
       "  <thead>\n",
       "    <tr style=\"text-align: right;\">\n",
       "      <th></th>\n",
       "      <th>eb_uid</th>\n",
       "      <th>cal_data_id</th>\n",
       "      <th>cal_reduction_id</th>\n",
       "      <th>start_valid_time</th>\n",
       "      <th>receiver_band</th>\n",
       "      <th>ref_antenna_name</th>\n",
       "      <th>antenna</th>\n",
       "      <th>polarization</th>\n",
       "      <th>sideband</th>\n",
       "      <th>baseband_name</th>\n",
       "      <th>spw_name</th>\n",
       "      <th>spw_name_ms</th>\n",
       "      <th>frequency_array</th>\n",
       "      <th>amplitude_corr_tsys</th>\n",
       "      <th>phase_norm_wrap</th>\n",
       "      <th>QA2 Flag(s)</th>\n",
       "    </tr>\n",
       "  </thead>\n",
       "  <tbody>\n",
       "    <tr>\n",
       "      <th>0</th>\n",
       "      <td>uid://A002/Xff45a6/X4435</td>\n",
       "      <td>CalData_7</td>\n",
       "      <td>CalReduction_7</td>\n",
       "      <td>2022-10-06 11:04:36.384000+00:00</td>\n",
       "      <td>ALMA_RB_07</td>\n",
       "      <td>DV21</td>\n",
       "      <td>DA41</td>\n",
       "      <td>X</td>\n",
       "      <td>LSB</td>\n",
       "      <td>BB_1</td>\n",
       "      <td>SpectralWindow_68</td>\n",
       "      <td>spw_25</td>\n",
       "      <td>[351724225880.5871, 351708600880.5871, 3516929...</td>\n",
       "      <td>[0.014256122636602484, 0.014731913342933525, 0...</td>\n",
       "      <td>[-0.06451911942250001, -0.0617732094225, -0.00...</td>\n",
       "      <td>[]</td>\n",
       "    </tr>\n",
       "    <tr>\n",
       "      <th>1</th>\n",
       "      <td>uid://A002/Xff45a6/X4435</td>\n",
       "      <td>CalData_7</td>\n",
       "      <td>CalReduction_7</td>\n",
       "      <td>2022-10-06 11:04:36.384000+00:00</td>\n",
       "      <td>ALMA_RB_07</td>\n",
       "      <td>DV21</td>\n",
       "      <td>DA41</td>\n",
       "      <td>Y</td>\n",
       "      <td>LSB</td>\n",
       "      <td>BB_1</td>\n",
       "      <td>SpectralWindow_68</td>\n",
       "      <td>spw_25</td>\n",
       "      <td>[351724225880.5871, 351708600880.5871, 3516929...</td>\n",
       "      <td>[0.013380656345701562, 0.014427262421258363, 0...</td>\n",
       "      <td>[-0.06347614638691666, -0.01566072838691667, -...</td>\n",
       "      <td>[]</td>\n",
       "    </tr>\n",
       "    <tr>\n",
       "      <th>2</th>\n",
       "      <td>uid://A002/Xff45a6/X4435</td>\n",
       "      <td>CalData_7</td>\n",
       "      <td>CalReduction_7</td>\n",
       "      <td>2022-10-06 11:04:36.384000+00:00</td>\n",
       "      <td>ALMA_RB_07</td>\n",
       "      <td>DV21</td>\n",
       "      <td>DA42</td>\n",
       "      <td>X</td>\n",
       "      <td>LSB</td>\n",
       "      <td>BB_1</td>\n",
       "      <td>SpectralWindow_68</td>\n",
       "      <td>spw_25</td>\n",
       "      <td>[351724225880.5871, 351708600880.5871, 3516929...</td>\n",
       "      <td>[0.014431147004386208, 0.013925552020024039, 0...</td>\n",
       "      <td>[-0.2176890534425, -0.22305674344249998, -0.19...</td>\n",
       "      <td>[]</td>\n",
       "    </tr>\n",
       "    <tr>\n",
       "      <th>3</th>\n",
       "      <td>uid://A002/Xff45a6/X4435</td>\n",
       "      <td>CalData_7</td>\n",
       "      <td>CalReduction_7</td>\n",
       "      <td>2022-10-06 11:04:36.384000+00:00</td>\n",
       "      <td>ALMA_RB_07</td>\n",
       "      <td>DV21</td>\n",
       "      <td>DA42</td>\n",
       "      <td>Y</td>\n",
       "      <td>LSB</td>\n",
       "      <td>BB_1</td>\n",
       "      <td>SpectralWindow_68</td>\n",
       "      <td>spw_25</td>\n",
       "      <td>[351724225880.5871, 351708600880.5871, 3516929...</td>\n",
       "      <td>[0.01401435387584803, 0.014249317856180726, 0....</td>\n",
       "      <td>[0.03815305532075, 0.06564197832074999, 0.0391...</td>\n",
       "      <td>[]</td>\n",
       "    </tr>\n",
       "    <tr>\n",
       "      <th>4</th>\n",
       "      <td>uid://A002/Xff45a6/X4435</td>\n",
       "      <td>CalData_7</td>\n",
       "      <td>CalReduction_7</td>\n",
       "      <td>2022-10-06 11:04:36.384000+00:00</td>\n",
       "      <td>ALMA_RB_07</td>\n",
       "      <td>DV21</td>\n",
       "      <td>DA43</td>\n",
       "      <td>X</td>\n",
       "      <td>LSB</td>\n",
       "      <td>BB_1</td>\n",
       "      <td>SpectralWindow_68</td>\n",
       "      <td>spw_25</td>\n",
       "      <td>[351724225880.5871, 351708600880.5871, 3516929...</td>\n",
       "      <td>[0.014949316205388486, 0.015328749924888039, 0...</td>\n",
       "      <td>[-0.13109463273738334, -0.18370725273738334, -...</td>\n",
       "      <td>[]</td>\n",
       "    </tr>\n",
       "    <tr>\n",
       "      <th>5</th>\n",
       "      <td>uid://A002/Xff45a6/X4435</td>\n",
       "      <td>CalData_7</td>\n",
       "      <td>CalReduction_7</td>\n",
       "      <td>2022-10-06 11:04:36.384000+00:00</td>\n",
       "      <td>ALMA_RB_07</td>\n",
       "      <td>DV21</td>\n",
       "      <td>DA43</td>\n",
       "      <td>Y</td>\n",
       "      <td>LSB</td>\n",
       "      <td>BB_1</td>\n",
       "      <td>SpectralWindow_68</td>\n",
       "      <td>spw_25</td>\n",
       "      <td>[351724225880.5871, 351708600880.5871, 3516929...</td>\n",
       "      <td>[0.01490487109608887, 0.01510182558336035, 0.0...</td>\n",
       "      <td>[-0.16930026337416668, -0.13606859337416666, -...</td>\n",
       "      <td>[]</td>\n",
       "    </tr>\n",
       "    <tr>\n",
       "      <th>6</th>\n",
       "      <td>uid://A002/Xff45a6/X4435</td>\n",
       "      <td>CalData_7</td>\n",
       "      <td>CalReduction_7</td>\n",
       "      <td>2022-10-06 11:04:36.384000+00:00</td>\n",
       "      <td>ALMA_RB_07</td>\n",
       "      <td>DV21</td>\n",
       "      <td>DA44</td>\n",
       "      <td>X</td>\n",
       "      <td>LSB</td>\n",
       "      <td>BB_1</td>\n",
       "      <td>SpectralWindow_68</td>\n",
       "      <td>spw_25</td>\n",
       "      <td>[351724225880.5871, 351708600880.5871, 3516929...</td>\n",
       "      <td>[0.015536372678635918, 0.014857486677088527, 0...</td>\n",
       "      <td>[-0.21134714639021668, -0.26473911639021663, -...</td>\n",
       "      <td>[]</td>\n",
       "    </tr>\n",
       "    <tr>\n",
       "      <th>7</th>\n",
       "      <td>uid://A002/Xff45a6/X4435</td>\n",
       "      <td>CalData_7</td>\n",
       "      <td>CalReduction_7</td>\n",
       "      <td>2022-10-06 11:04:36.384000+00:00</td>\n",
       "      <td>ALMA_RB_07</td>\n",
       "      <td>DV21</td>\n",
       "      <td>DA44</td>\n",
       "      <td>Y</td>\n",
       "      <td>LSB</td>\n",
       "      <td>BB_1</td>\n",
       "      <td>SpectralWindow_68</td>\n",
       "      <td>spw_25</td>\n",
       "      <td>[351724225880.5871, 351708600880.5871, 3516929...</td>\n",
       "      <td>[0.014249162305549411, 0.014134395659441731, 0...</td>\n",
       "      <td>[-0.08561645345641668, -0.02401703545641667, -...</td>\n",
       "      <td>[]</td>\n",
       "    </tr>\n",
       "    <tr>\n",
       "      <th>8</th>\n",
       "      <td>uid://A002/Xff45a6/X4435</td>\n",
       "      <td>CalData_7</td>\n",
       "      <td>CalReduction_7</td>\n",
       "      <td>2022-10-06 11:04:36.384000+00:00</td>\n",
       "      <td>ALMA_RB_07</td>\n",
       "      <td>DV21</td>\n",
       "      <td>DA45</td>\n",
       "      <td>X</td>\n",
       "      <td>LSB</td>\n",
       "      <td>BB_1</td>\n",
       "      <td>SpectralWindow_68</td>\n",
       "      <td>spw_25</td>\n",
       "      <td>[351724225880.5871, 351708600880.5871, 3516929...</td>\n",
       "      <td>[0.01573515363706677, 0.016209123561557178, 0....</td>\n",
       "      <td>[-0.10371428527500001, -0.15062227527499997, -...</td>\n",
       "      <td>[]</td>\n",
       "    </tr>\n",
       "    <tr>\n",
       "      <th>9</th>\n",
       "      <td>uid://A002/Xff45a6/X4435</td>\n",
       "      <td>CalData_7</td>\n",
       "      <td>CalReduction_7</td>\n",
       "      <td>2022-10-06 11:04:36.384000+00:00</td>\n",
       "      <td>ALMA_RB_07</td>\n",
       "      <td>DV21</td>\n",
       "      <td>DA45</td>\n",
       "      <td>Y</td>\n",
       "      <td>LSB</td>\n",
       "      <td>BB_1</td>\n",
       "      <td>SpectralWindow_68</td>\n",
       "      <td>spw_25</td>\n",
       "      <td>[351724225880.5871, 351708600880.5871, 3516929...</td>\n",
       "      <td>[0.013769915632359766, 0.014202971749038364, 0...</td>\n",
       "      <td>[-0.009720573608583334, -0.021781495108583335,...</td>\n",
       "      <td>[]</td>\n",
       "    </tr>\n",
       "  </tbody>\n",
       "</table>\n",
       "</div>"
      ],
      "text/plain": [
       "                     eb_uid cal_data_id cal_reduction_id  \\\n",
       "0  uid://A002/Xff45a6/X4435   CalData_7   CalReduction_7   \n",
       "1  uid://A002/Xff45a6/X4435   CalData_7   CalReduction_7   \n",
       "2  uid://A002/Xff45a6/X4435   CalData_7   CalReduction_7   \n",
       "3  uid://A002/Xff45a6/X4435   CalData_7   CalReduction_7   \n",
       "4  uid://A002/Xff45a6/X4435   CalData_7   CalReduction_7   \n",
       "5  uid://A002/Xff45a6/X4435   CalData_7   CalReduction_7   \n",
       "6  uid://A002/Xff45a6/X4435   CalData_7   CalReduction_7   \n",
       "7  uid://A002/Xff45a6/X4435   CalData_7   CalReduction_7   \n",
       "8  uid://A002/Xff45a6/X4435   CalData_7   CalReduction_7   \n",
       "9  uid://A002/Xff45a6/X4435   CalData_7   CalReduction_7   \n",
       "\n",
       "                  start_valid_time receiver_band ref_antenna_name antenna  \\\n",
       "0 2022-10-06 11:04:36.384000+00:00    ALMA_RB_07             DV21    DA41   \n",
       "1 2022-10-06 11:04:36.384000+00:00    ALMA_RB_07             DV21    DA41   \n",
       "2 2022-10-06 11:04:36.384000+00:00    ALMA_RB_07             DV21    DA42   \n",
       "3 2022-10-06 11:04:36.384000+00:00    ALMA_RB_07             DV21    DA42   \n",
       "4 2022-10-06 11:04:36.384000+00:00    ALMA_RB_07             DV21    DA43   \n",
       "5 2022-10-06 11:04:36.384000+00:00    ALMA_RB_07             DV21    DA43   \n",
       "6 2022-10-06 11:04:36.384000+00:00    ALMA_RB_07             DV21    DA44   \n",
       "7 2022-10-06 11:04:36.384000+00:00    ALMA_RB_07             DV21    DA44   \n",
       "8 2022-10-06 11:04:36.384000+00:00    ALMA_RB_07             DV21    DA45   \n",
       "9 2022-10-06 11:04:36.384000+00:00    ALMA_RB_07             DV21    DA45   \n",
       "\n",
       "  polarization sideband baseband_name           spw_name spw_name_ms  \\\n",
       "0            X      LSB          BB_1  SpectralWindow_68      spw_25   \n",
       "1            Y      LSB          BB_1  SpectralWindow_68      spw_25   \n",
       "2            X      LSB          BB_1  SpectralWindow_68      spw_25   \n",
       "3            Y      LSB          BB_1  SpectralWindow_68      spw_25   \n",
       "4            X      LSB          BB_1  SpectralWindow_68      spw_25   \n",
       "5            Y      LSB          BB_1  SpectralWindow_68      spw_25   \n",
       "6            X      LSB          BB_1  SpectralWindow_68      spw_25   \n",
       "7            Y      LSB          BB_1  SpectralWindow_68      spw_25   \n",
       "8            X      LSB          BB_1  SpectralWindow_68      spw_25   \n",
       "9            Y      LSB          BB_1  SpectralWindow_68      spw_25   \n",
       "\n",
       "                                     frequency_array  \\\n",
       "0  [351724225880.5871, 351708600880.5871, 3516929...   \n",
       "1  [351724225880.5871, 351708600880.5871, 3516929...   \n",
       "2  [351724225880.5871, 351708600880.5871, 3516929...   \n",
       "3  [351724225880.5871, 351708600880.5871, 3516929...   \n",
       "4  [351724225880.5871, 351708600880.5871, 3516929...   \n",
       "5  [351724225880.5871, 351708600880.5871, 3516929...   \n",
       "6  [351724225880.5871, 351708600880.5871, 3516929...   \n",
       "7  [351724225880.5871, 351708600880.5871, 3516929...   \n",
       "8  [351724225880.5871, 351708600880.5871, 3516929...   \n",
       "9  [351724225880.5871, 351708600880.5871, 3516929...   \n",
       "\n",
       "                                 amplitude_corr_tsys  \\\n",
       "0  [0.014256122636602484, 0.014731913342933525, 0...   \n",
       "1  [0.013380656345701562, 0.014427262421258363, 0...   \n",
       "2  [0.014431147004386208, 0.013925552020024039, 0...   \n",
       "3  [0.01401435387584803, 0.014249317856180726, 0....   \n",
       "4  [0.014949316205388486, 0.015328749924888039, 0...   \n",
       "5  [0.01490487109608887, 0.01510182558336035, 0.0...   \n",
       "6  [0.015536372678635918, 0.014857486677088527, 0...   \n",
       "7  [0.014249162305549411, 0.014134395659441731, 0...   \n",
       "8  [0.01573515363706677, 0.016209123561557178, 0....   \n",
       "9  [0.013769915632359766, 0.014202971749038364, 0...   \n",
       "\n",
       "                                     phase_norm_wrap QA2 Flag(s)  \n",
       "0  [-0.06451911942250001, -0.0617732094225, -0.00...          []  \n",
       "1  [-0.06347614638691666, -0.01566072838691667, -...          []  \n",
       "2  [-0.2176890534425, -0.22305674344249998, -0.19...          []  \n",
       "3  [0.03815305532075, 0.06564197832074999, 0.0391...          []  \n",
       "4  [-0.13109463273738334, -0.18370725273738334, -...          []  \n",
       "5  [-0.16930026337416668, -0.13606859337416666, -...          []  \n",
       "6  [-0.21134714639021668, -0.26473911639021663, -...          []  \n",
       "7  [-0.08561645345641668, -0.02401703545641667, -...          []  \n",
       "8  [-0.10371428527500001, -0.15062227527499997, -...          []  \n",
       "9  [-0.009720573608583334, -0.021781495108583335,...          []  "
      ]
     },
     "execution_count": 4,
     "metadata": {},
     "output_type": "execute_result"
    }
   ],
   "source": [
    "df.head(10)"
   ]
  },
  {
   "cell_type": "code",
   "execution_count": 5,
   "metadata": {},
   "outputs": [
    {
     "name": "stdout",
     "output_type": "stream",
     "text": [
      "length:  64, size: 8346\n",
      "length:  120, size: 9814\n",
      "length:  128, size: 5600\n",
      "length:  240, size: 10808\n",
      "length:  256, size: 80\n",
      "length:  480, size: 3096\n",
      "length:  960, size: 15162\n",
      "length:  1024, size: 552\n",
      "length:  1920, size: 2386\n",
      "length:  2048, size: 180\n"
     ]
    }
   ],
   "source": [
    "for length, grp in df.groupby(\n",
    "        df['frequency_array'].str.len()\n",
    "    ):\n",
    "    print('length: ', str(length) + ', size:', len(grp))"
   ]
  },
  {
   "cell_type": "markdown",
   "metadata": {},
   "source": [
    "# Demonstration"
   ]
  },
  {
   "cell_type": "code",
   "execution_count": null,
   "metadata": {
    "ExecuteTime": {
     "end_time": "2025-04-25T00:10:26.601964Z",
     "start_time": "2025-04-25T00:10:26.590874Z"
    }
   },
   "outputs": [],
   "source": [
    "bandpass_sel_df = df.query('eb_uid == \"uid://A002/Xff45a6/X4435\"').copy()"
   ]
  },
  {
   "cell_type": "code",
   "execution_count": null,
   "metadata": {
    "ExecuteTime": {
     "end_time": "2025-04-25T00:10:29.435940Z",
     "start_time": "2025-04-25T00:10:28.744295Z"
    }
   },
   "outputs": [],
   "source": [
    "fig1 = px.scatter(\n",
    "    x = bandpass_sel_df.iloc[0]['frequency_array'],\n",
    "    y = bandpass_sel_df.iloc[0]['amplitude_corr_tsys'],\n",
    "    render_mode='webgl', range_y=[0, 0.02], \n",
    "    labels={'x': 'Frequency [Hz]', 'y': 'Amplitude [?]'}\n",
    ")\n",
    "fig1"
   ]
  },
  {
   "cell_type": "code",
   "execution_count": null,
   "metadata": {
    "ExecuteTime": {
     "end_time": "2025-04-25T00:10:36.178924Z",
     "start_time": "2025-04-25T00:10:36.137825Z"
    },
    "scrolled": false
   },
   "outputs": [],
   "source": [
    "fig1 = px.scatter(\n",
    "    x = bandpass_sel_df.iloc[20]['frequency_array'],\n",
    "    y = bandpass_sel_df.iloc[20]['phase_norm_wrap'],\n",
    "    render_mode='webgl', range_y=[-np.pi, np.pi], \n",
    "    labels={'x': 'Frequency [Hz]', 'y': 'Phase [rad]'}\n",
    ")\n",
    "fig1"
   ]
  },
  {
   "cell_type": "code",
   "execution_count": null,
   "metadata": {
    "ExecuteTime": {
     "end_time": "2025-04-25T00:11:03.482805Z",
     "start_time": "2025-04-25T00:11:02.943025Z"
    }
   },
   "outputs": [],
   "source": [
    "bandpass_explode_df = bandpass_sel_df.explode(['frequency_array','amplitude_corr_tsys','phase_norm_wrap'])\n",
    "\n",
    "bandpass_explode_df['label'] = bandpass_explode_df.apply(\n",
    "    lambda x: f'{x[\"antenna\"]}, {x[\"spw_name\"]}, pol {x[\"polarization\"]}', axis=1)"
   ]
  },
  {
   "cell_type": "code",
   "execution_count": null,
   "metadata": {
    "ExecuteTime": {
     "end_time": "2025-04-25T00:11:09.551269Z",
     "start_time": "2025-04-25T00:11:08.160639Z"
    }
   },
   "outputs": [],
   "source": [
    "fig2 = px.scatter(\n",
    "    bandpass_explode_df,\n",
    "    x='frequency_array', \n",
    "    y='amplitude_corr_tsys',\n",
    "    color='label', render_mode='webgl',\n",
    ")\n",
    "fig2.update_traces(mode='lines', opacity=0.5)"
   ]
  },
  {
   "cell_type": "code",
   "execution_count": null,
   "metadata": {
    "ExecuteTime": {
     "end_time": "2025-04-25T00:11:18.936011Z",
     "start_time": "2025-04-25T00:11:18.848279Z"
    }
   },
   "outputs": [],
   "source": [
    "fig2 = px.line(\n",
    "    bandpass_explode_df.query('antenna == [\"DV24\", \"DA46\", \"DV09\"] and spw_name == \"SpectralWindow_68\"'),\n",
    "    x='frequency_array', \n",
    "    y='amplitude_corr_tsys',\n",
    "    color='label', render_mode='webgl'\n",
    ")\n",
    "fig2"
   ]
  },
  {
   "cell_type": "code",
   "execution_count": null,
   "metadata": {
    "ExecuteTime": {
     "end_time": "2025-04-25T00:11:23.198362Z",
     "start_time": "2025-04-25T00:11:23.123989Z"
    }
   },
   "outputs": [],
   "source": [
    "fig2 = px.line(\n",
    "    bandpass_explode_df.query('antenna == \"DA64\"'),\n",
    "    x='frequency_array', \n",
    "    y='amplitude_corr_tsys',\n",
    "    color='label', render_mode='webgl'\n",
    ")\n",
    "fig2"
   ]
  },
  {
   "cell_type": "code",
   "execution_count": null,
   "metadata": {
    "ExecuteTime": {
     "end_time": "2025-04-25T00:11:26.750469Z",
     "start_time": "2025-04-25T00:11:26.679297Z"
    }
   },
   "outputs": [],
   "source": [
    "fig2 = px.line(\n",
    "    bandpass_explode_df.query('antenna == \"DV09\"'),\n",
    "    x='frequency_array', \n",
    "    y='amplitude_corr_tsys',\n",
    "    color='label', render_mode='webgl'\n",
    ")\n",
    "fig2"
   ]
  },
  {
   "cell_type": "code",
   "execution_count": null,
   "metadata": {
    "ExecuteTime": {
     "end_time": "2025-04-25T00:11:30.488105Z",
     "start_time": "2025-04-25T00:11:30.415522Z"
    }
   },
   "outputs": [],
   "source": [
    "fig2 = px.line(\n",
    "    bandpass_explode_df.query('antenna == \"DA59\"'),\n",
    "    x='frequency_array', \n",
    "    y='amplitude_corr_tsys',\n",
    "    color='label', render_mode='webgl'\n",
    ")\n",
    "fig2"
   ]
  },
  {
   "cell_type": "code",
   "execution_count": null,
   "metadata": {
    "ExecuteTime": {
     "end_time": "2025-04-25T00:11:33.851643Z",
     "start_time": "2025-04-25T00:11:33.746631Z"
    }
   },
   "outputs": [],
   "source": [
    "fig2 = px.line(\n",
    "    bandpass_explode_df.query('antenna == [\"DA61\", \"DV03\"]'),\n",
    "    x='frequency_array', \n",
    "    y='phase_norm_wrap',\n",
    "    color='label', render_mode='webgl'\n",
    ")\n",
    "fig2"
   ]
  },
  {
   "cell_type": "markdown",
   "metadata": {},
   "source": [
    "# Data Analysis"
   ]
  },
  {
   "cell_type": "code",
   "execution_count": 6,
   "metadata": {},
   "outputs": [],
   "source": [
    "actual_specs = [np.array(x, dtype=float)\n",
    "                 for x in df['amplitude_corr_tsys'].tolist()]"
   ]
  },
  {
   "cell_type": "code",
   "execution_count": 7,
   "metadata": {},
   "outputs": [],
   "source": [
    "freqs = [np.array(x, dtype=float)\n",
    "                 for x in df['frequency_array'].tolist()]"
   ]
  },
  {
   "cell_type": "code",
   "execution_count": 8,
   "metadata": {},
   "outputs": [],
   "source": [
    "eb_uid = df['eb_uid']\n",
    "antenna = df['antenna']\n",
    "spw_name_ms = df['spw_name_ms']\n",
    "polarization = df['polarization']"
   ]
  },
  {
   "cell_type": "code",
   "execution_count": 9,
   "metadata": {},
   "outputs": [],
   "source": [
    "length_groups: Dict[int, List[int]] = {}\n",
    "for i, s in enumerate(actual_specs):\n",
    "    L = s.shape[0]\n",
    "    length_groups.setdefault(L, []).append(i)"
   ]
  },
  {
   "cell_type": "code",
   "execution_count": 10,
   "metadata": {},
   "outputs": [],
   "source": [
    "result: Dict[int, Tuple[np.ndarray, ...]] = {}\n",
    "for L, idxs in length_groups.items():\n",
    "    actual_specs_L = np.vstack([actual_specs[i] for i in idxs])\n",
    "    freqs_L = np.vstack([freqs[i] for i in idxs])\n",
    "    eb_uid_L = eb_uid[idxs]\n",
    "    antenna_L = antenna[idxs]\n",
    "    spw_name_ms_L = spw_name_ms[idxs]\n",
    "    polarization_L = polarization[idxs]\n",
    "    result[L] = (actual_specs_L, freqs_L, eb_uid_L, antenna_L, spw_name_ms_L, polarization_L)"
   ]
  },
  {
   "cell_type": "code",
   "execution_count": 11,
   "metadata": {},
   "outputs": [
    {
     "name": "stdout",
     "output_type": "stream",
     "text": [
      "Found lengths: [64, 120, 128, 240, 256, 480, 960, 1024, 1920, 2048]\n"
     ]
    }
   ],
   "source": [
    "print(f\"Found lengths: {sorted(result.keys())}\")"
   ]
  },
  {
   "cell_type": "code",
   "execution_count": 13,
   "metadata": {},
   "outputs": [
    {
     "name": "stdout",
     "output_type": "stream",
     "text": [
      "Analyzing channel length of 64\n",
      "--- Step ---\n",
      "  count: 8346\n",
      "    mean:     31.25 Mhz\n",
      "    std:      0.0 Mhz\n",
      "    min/max:  31.25 Mhz 31.25 Mhz\n",
      "    median:   31.25 Mhz\n",
      "    25/75%:   [31.25 31.25] Mhz\n",
      "\n",
      "--- Span ---\n",
      "  count: 8346\n",
      "    mean:     1968.75 Mhz\n",
      "    std:      0.0 Mhz\n",
      "    min/max:  1968.75 Mhz 1968.75 Mhz\n",
      "    median:   1968.75 Mhz\n",
      "    25/75%:   [1968.75 1968.75] Mhz\n",
      "\n",
      "Analyzing channel length of 120\n",
      "--- Step ---\n",
      "  count: 9814\n",
      "    mean:     15.625 Mhz\n",
      "    std:      0.0 Mhz\n",
      "    min/max:  15.625 Mhz 15.625 Mhz\n",
      "    median:   15.625 Mhz\n",
      "    25/75%:   [15.625 15.625] Mhz\n",
      "\n",
      "--- Span ---\n",
      "  count: 9814\n",
      "    mean:     1859.375 Mhz\n",
      "    std:      0.0 Mhz\n",
      "    min/max:  1859.375 Mhz 1859.375 Mhz\n",
      "    median:   1859.375 Mhz\n",
      "    25/75%:   [1859.375 1859.375] Mhz\n",
      "\n",
      "Analyzing channel length of 128\n",
      "--- Step ---\n",
      "  count: 5600\n",
      "    mean:     15.625 Mhz\n",
      "    std:      0.0 Mhz\n",
      "    min/max:  15.625 Mhz 15.625 Mhz\n",
      "    median:   15.625 Mhz\n",
      "    25/75%:   [15.625 15.625] Mhz\n",
      "\n",
      "--- Span ---\n",
      "  count: 5600\n",
      "    mean:     1984.375 Mhz\n",
      "    std:      0.0 Mhz\n",
      "    min/max:  1984.375 Mhz 1984.375 Mhz\n",
      "    median:   1984.375 Mhz\n",
      "    25/75%:   [1984.375 1984.375] Mhz\n",
      "\n",
      "Analyzing channel length of 240\n",
      "--- Step ---\n",
      "  count: 10808\n",
      "    mean:     6.624866996669134 Mhz\n",
      "    std:      2.752809696331709 Mhz\n",
      "    min/max:  0.244140625 Mhz 7.8125 Mhz\n",
      "    median:   7.8125 Mhz\n",
      "    25/75%:   [7.8125 7.8125] Mhz\n",
      "\n",
      "--- Span ---\n",
      "  count: 10808\n",
      "    mean:     1583.343212203923 Mhz\n",
      "    std:      657.9215174232784 Mhz\n",
      "    min/max:  58.349609375 Mhz 1867.1875 Mhz\n",
      "    median:   1867.1875 Mhz\n",
      "    25/75%:   [1867.1875 1867.1875] Mhz\n",
      "\n",
      "Analyzing channel length of 256\n",
      "--- Step ---\n",
      "  count: 80\n",
      "    mean:     7.8125 Mhz\n",
      "    std:      0.0 Mhz\n",
      "    min/max:  7.8125 Mhz 7.8125 Mhz\n",
      "    median:   7.8125 Mhz\n",
      "    25/75%:   [7.8125 7.8125] Mhz\n",
      "\n",
      "--- Span ---\n",
      "  count: 80\n",
      "    mean:     1992.1875 Mhz\n",
      "    std:      0.0 Mhz\n",
      "    min/max:  1992.1875 Mhz 1992.1875 Mhz\n",
      "    median:   1992.1875 Mhz\n",
      "    25/75%:   [1992.1875 1992.1875] Mhz\n",
      "\n",
      "Analyzing channel length of 480\n",
      "--- Step ---\n",
      "  count: 3096\n",
      "    mean:     1.677757085755814 Mhz\n",
      "    std:      1.5684840527777861 Mhz\n",
      "    min/max:  0.244140625 Mhz 3.90625 Mhz\n",
      "    median:   0.9765625 Mhz\n",
      "    25/75%:   [0.24414062 3.90625   ] Mhz\n",
      "\n",
      "--- Span ---\n",
      "  count: 3096\n",
      "    mean:     803.6456440770348 Mhz\n",
      "    std:      751.3038612805595 Mhz\n",
      "    min/max:  116.943359375 Mhz 1871.09375 Mhz\n",
      "    median:   467.7734375 Mhz\n",
      "    25/75%:   [ 116.94335938 1871.09375   ] Mhz\n",
      "\n",
      "Analyzing channel length of 960\n",
      "--- Step ---\n",
      "  count: 15162\n",
      "    mean:     1.7541669758277272 Mhz\n",
      "    std:      0.4478963941246133 Mhz\n",
      "    min/max:  0.1220703125 Mhz 1.953125 Mhz\n",
      "    median:   1.953125 Mhz\n",
      "    25/75%:   [1.953125 1.953125] Mhz\n",
      "\n",
      "--- Span ---\n",
      "  count: 15162\n",
      "    mean:     1682.2461298187905 Mhz\n",
      "    std:      429.5326419655042 Mhz\n",
      "    min/max:  117.0654296875 Mhz 1873.046875 Mhz\n",
      "    median:   1873.046875 Mhz\n",
      "    25/75%:   [1873.046875 1873.046875] Mhz\n",
      "\n",
      "Analyzing channel length of 1024\n",
      "--- Step ---\n",
      "  count: 552\n",
      "    mean:     1.846976902173913 Mhz\n",
      "    std:      0.379766979874285 Mhz\n",
      "    min/max:  0.48828125 Mhz 1.953125 Mhz\n",
      "    median:   1.953125 Mhz\n",
      "    25/75%:   [1.953125 1.953125] Mhz\n",
      "\n",
      "--- Span ---\n",
      "  count: 552\n",
      "    mean:     1889.457370923913 Mhz\n",
      "    std:      388.50162041139345 Mhz\n",
      "    min/max:  499.51171875 Mhz 1998.046875 Mhz\n",
      "    median:   1998.046875 Mhz\n",
      "    25/75%:   [1998.046875 1998.046875] Mhz\n",
      "\n",
      "Analyzing channel length of 1920\n",
      "--- Step ---\n",
      "  count: 2386\n",
      "    mean:     0.8907653859754819 Mhz\n",
      "    std:      0.25641842685010174 Mhz\n",
      "    min/max:  0.030517578125 Mhz 0.9765625 Mhz\n",
      "    median:   0.9765625 Mhz\n",
      "    25/75%:   [0.9765625 0.9765625] Mhz\n",
      "\n",
      "--- Span ---\n",
      "  count: 2386\n",
      "    mean:     1709.37877568695 Mhz\n",
      "    std:      492.06696112534524 Mhz\n",
      "    min/max:  58.563232421875 Mhz 1874.0234375 Mhz\n",
      "    median:   1874.0234375 Mhz\n",
      "    25/75%:   [1874.0234375 1874.0234375] Mhz\n",
      "\n",
      "Analyzing channel length of 2048\n",
      "--- Step ---\n",
      "  count: 180\n",
      "    mean:     0.9765625 Mhz\n",
      "    std:      0.0 Mhz\n",
      "    min/max:  0.9765625 Mhz 0.9765625 Mhz\n",
      "    median:   0.9765625 Mhz\n",
      "    25/75%:   [0.9765625 0.9765625] Mhz\n",
      "\n",
      "--- Span ---\n",
      "  count: 180\n",
      "    mean:     1999.0234375 Mhz\n",
      "    std:      0.0 Mhz\n",
      "    min/max:  1999.0234375 Mhz 1999.0234375 Mhz\n",
      "    median:   1999.0234375 Mhz\n",
      "    25/75%:   [1999.0234375 1999.0234375] Mhz\n",
      "\n"
     ]
    }
   ],
   "source": [
    "lengths, step_means, step_stds, span_means, span_stds = [], [], [], [], []\n",
    " \n",
    "for length in sorted(result):\n",
    "    actual_specs_L, freqs_L, eb_uid_L, antenna_L, spw_name_ms_L, polarization_L = result[length]\n",
    "    print('Analyzing channel length of', length)\n",
    "    lengths.extend(lengths)\n",
    "    freq_step = abs(freqs_L[:, 1] - freqs_L[:, 0])\n",
    "    freq_span = abs(freqs_L[:, -1] - freqs_L[:, 0])\n",
    "    for name, arr in [(\"Step\", freq_step)]:\n",
    "        print(f\"--- {name} ---\")\n",
    "        print(\"  count:\", arr.size)\n",
    "        print(\"    mean:    \", np.mean(arr) / 1e6, \"Mhz\")\n",
    "        print(\"    std:     \", np.std(arr) / 1e6, \"Mhz\")\n",
    "        print(\"    min/max: \", np.min(arr) / 1e6, \"Mhz\", np.max(arr) / 1e6, \"Mhz\")\n",
    "        print(\"    median:  \", np.median(arr) / 1e6, \"Mhz\")\n",
    "        print(\"    25/75%:  \", np.percentile(arr, [25, 75]) / 1e6, \"Mhz\")\n",
    "        print()\n",
    "    for name, arr in [(\"Span\", freq_span)]:\n",
    "        print(f\"--- {name} ---\")\n",
    "        print(\"  count:\", arr.size)\n",
    "        print(\"    mean:    \", np.mean(arr) / 1e6, \"Mhz\")\n",
    "        print(\"    std:     \", np.std(arr) / 1e6, \"Mhz\")\n",
    "        print(\"    min/max: \", np.min(arr) / 1e6, \"Mhz\", np.max(arr) / 1e6, \"Mhz\")\n",
    "        print(\"    median:  \", np.median(arr) / 1e6, \"Mhz\")\n",
    "        print(\"    25/75%:  \", np.percentile(arr, [25, 75]) / 1e6, \"Mhz\")\n",
    "        print()"
   ]
  },
  {
   "cell_type": "markdown",
   "metadata": {},
   "source": [
    "# Experimentation"
   ]
  },
  {
   "cell_type": "code",
   "execution_count": null,
   "metadata": {},
   "outputs": [],
   "source": [
    "trans_df = pd.read_parquet(f'{cosmicai_path}/full_spectrum.gzip')"
   ]
  },
  {
   "cell_type": "code",
   "execution_count": null,
   "metadata": {},
   "outputs": [],
   "source": [
    "df['frequency_array'] = df['frequency_array'] \\\n",
    "    .apply(lambda freqs: [f/1e9 for f in freqs])"
   ]
  },
  {
   "cell_type": "code",
   "execution_count": null,
   "metadata": {},
   "outputs": [],
   "source": [
    "df['frequency_array']"
   ]
  },
  {
   "cell_type": "code",
   "execution_count": null,
   "metadata": {},
   "outputs": [],
   "source": [
    "trans_freqs = trans_df['Frequency (GHz)'].values\n",
    "trans_vals  = trans_df['Transmission (%)'].values"
   ]
  },
  {
   "cell_type": "code",
   "execution_count": null,
   "metadata": {},
   "outputs": [],
   "source": [
    "def match_and_correct(freq_array):\n",
    "    idxs = np.searchsorted(trans_freqs, freq_array)\n",
    "    idxs[idxs == len(trans_freqs)] = len(trans_freqs) - 1\n",
    "    left  = np.maximum(idxs - 1, 0)\n",
    "    right = idxs\n",
    "    dl = np.abs(freq_array - trans_freqs[left])\n",
    "    dr = np.abs(trans_freqs[right] - freq_array)\n",
    "    nearest = np.where(dl <= dr, left, right)\n",
    "    mt = trans_vals[nearest]\n",
    "    return mt"
   ]
  },
  {
   "cell_type": "code",
   "execution_count": null,
   "metadata": {},
   "outputs": [],
   "source": [
    "results = df.apply(\n",
    "    lambda row: match_and_correct(\n",
    "        np.array(row['frequency_array'], dtype=float)\n",
    "    ),\n",
    "    axis=1\n",
    ")"
   ]
  },
  {
   "cell_type": "code",
   "execution_count": null,
   "metadata": {},
   "outputs": [],
   "source": [
    "df['transmission_array'] = results"
   ]
  },
  {
   "cell_type": "code",
   "execution_count": null,
   "metadata": {},
   "outputs": [],
   "source": [
    "plt.figure(figsize=(100, 20))\n",
    "plt.plot(trans_freqs, trans_vals, marker='o')\n",
    "plt.xlabel('Frequency (GHz)')\n",
    "plt.ylabel('Transmission (%)')\n",
    "plt.title('Transmission vs Frequency')\n",
    "plt.grid(True)\n",
    "plt.show()"
   ]
  },
  {
   "cell_type": "code",
   "execution_count": null,
   "metadata": {},
   "outputs": [],
   "source": [
    "interference = []\n",
    "for index in range(len(df)):\n",
    "    freqs = np.array(df.iloc[index, 11])\n",
    "    trans = np.array(df.iloc[index, 14])\n",
    "\n",
    "    troguhs, props = find_peaks(-trans, prominence=1)\n",
    "    widths_samples, _, left_ips, right_ips = peak_widths(-trans, troguhs, rel_height=0.75)\n",
    "\n",
    "    left_freqs  = np.interp(left_ips,  np.arange(len(freqs)), freqs)\n",
    "    right_freqs = np.interp(right_ips, np.arange(len(freqs)), freqs)\n",
    "    widths_freq = right_freqs - left_freqs\n",
    "\n",
    "    trough_freqs  = freqs[troguhs]\n",
    "    trough_depths = props['prominences']\n",
    "\n",
    "    trough_ranges = []\n",
    "    for i in range(len(trough_freqs)):\n",
    "        trough_ranges.append((trough_freqs[i] - widths_freq[i] / 2, trough_freqs[i] + widths_freq[i] / 2))\n",
    "\n",
    "    trough_ranges = np.array(trough_ranges)\n",
    "\n",
    "    closest_idxs = []\n",
    "\n",
    "    for troguhs_range in trough_ranges:\n",
    "        start, end = troguhs_range[0], troguhs_range[1]\n",
    "        closest_start_idx = int(np.abs(freqs - start).argmin())\n",
    "        closest_end_idx = int(np.abs(freqs - end).argmin())\n",
    "        closest_idxs.append((closest_start_idx, closest_end_idx))\n",
    "\n",
    "    interference.append(closest_idxs)"
   ]
  },
  {
   "cell_type": "code",
   "execution_count": null,
   "metadata": {},
   "outputs": [],
   "source": [
    "index = 300\n",
    "freqs = np.array(df.iloc[index, 11])\n",
    "trans = np.array(df.iloc[index, 14])\n",
    "# coeffs = np.polyfit(freqs, trans, 2)\n",
    "# poly = np.poly1d(coeffs)\n",
    "# fitted = poly(freqs)\n",
    "\n",
    "plt.figure(figsize=(8,5))\n",
    "plt.plot(range(len(freqs)), trans, 'o', label='Data')\n",
    "# plt.plot(freqs, fitted, '-', label='Degree-3 fit')\n",
    "plt.xlabel('Frequency (GHz)')\n",
    "plt.ylabel('Transmission (%)')\n",
    "plt.title('Quadratic Fit to Transmission')\n",
    "plt.legend()\n",
    "plt.grid(True)\n",
    "plt.show()"
   ]
  },
  {
   "cell_type": "code",
   "execution_count": null,
   "metadata": {},
   "outputs": [],
   "source": [
    "peaks_df = pd.read_parquet(f'{cosmicai_path}/all_peaks_widths_heights.gzip')"
   ]
  },
  {
   "cell_type": "code",
   "execution_count": null,
   "metadata": {},
   "outputs": [],
   "source": [
    "peaks  = peaks_df['Peaks (GHz)'].values\n",
    "widths = peaks_df['Widths'].values\n",
    "peak_ranges = np.column_stack((peaks - widths / 2, peaks + widths / 2))\n",
    "peak_ranges_mid_points = np.array([float(start + end) / 2 for start, end in peak_ranges])"
   ]
  },
  {
   "cell_type": "code",
   "execution_count": null,
   "metadata": {},
   "outputs": [],
   "source": [
    "freq_ranges = np.array([\n",
    "    [float(min(x)), float(max(x))]\n",
    "    for x in df['frequency_array'].tolist()\n",
    "])\n",
    "freq_ranges_mid_points = np.array([float(start + end) / 2 for start, end in freq_ranges])"
   ]
  },
  {
   "cell_type": "code",
   "execution_count": null,
   "metadata": {},
   "outputs": [],
   "source": [
    "for idx, freq_points in enumerate(freq_ranges_mid_points):\n",
    "    closest_idx = int(np.abs(peak_ranges_mid_points - freq_points).argmin())\n",
    "    freqs = freq_ranges[idx]\n",
    "    peaks = peak_ranges[closest_idx]\n",
    "    start = max(freqs[0], peaks[0])\n",
    "    end   = min(freqs[1], peaks[1])"
   ]
  },
  {
   "cell_type": "code",
   "execution_count": null,
   "metadata": {},
   "outputs": [],
   "source": [
    "df['atmospheric_interference'] = interference"
   ]
  },
  {
   "cell_type": "code",
   "execution_count": null,
   "metadata": {},
   "outputs": [],
   "source": [
    "df.to_csv(\n",
    "    f'{cosmicai_path}/bandpass_augmented.csv',\n",
    "    index=False\n",
    ")"
   ]
  },
  {
   "cell_type": "markdown",
   "metadata": {},
   "source": [
    "# Debugging"
   ]
  },
  {
   "cell_type": "code",
   "execution_count": null,
   "metadata": {},
   "outputs": [],
   "source": [
    "cosmicai_path = 'Data'\n",
    "\n",
    "df_scored = pd.read_parquet(f'{cosmicai_path}/bandpass_qa0_no_partitions_labelled_filt_scored.parquet')"
   ]
  },
  {
   "cell_type": "code",
   "execution_count": null,
   "metadata": {},
   "outputs": [],
   "source": [
    "df_scored.info()"
   ]
  },
  {
   "cell_type": "code",
   "execution_count": null,
   "metadata": {},
   "outputs": [],
   "source": [
    "df_scored['win_span'] = ((df_scored['win_end'] - df_scored['win_start']).abs() * (df_scored['frequency_array'].str[1] - df_scored['frequency_array'].str[0])).abs()"
   ]
  },
  {
   "cell_type": "code",
   "execution_count": null,
   "metadata": {},
   "outputs": [],
   "source": [
    "df_scored.info()"
   ]
  },
  {
   "cell_type": "code",
   "execution_count": null,
   "metadata": {},
   "outputs": [],
   "source": [
    "df_scored_filtered_special = df_scored[df_scored['win_span'] == 31250000.0]"
   ]
  },
  {
   "cell_type": "code",
   "execution_count": null,
   "metadata": {},
   "outputs": [],
   "source": [
    "df_sorted_special = (\n",
    "    df_scored_filtered_special\n",
    "    .assign(freq_len = df_scored_filtered_special['frequency_array'].str.len())\n",
    "    .sort_values(\n",
    "        by=[ 'freq_len', 'score' ],\n",
    "        ascending=[ True,    False ]\n",
    "    )\n",
    "    .drop(columns='freq_len')\n",
    "    .reset_index(drop=True)\n",
    ")"
   ]
  },
  {
   "cell_type": "code",
   "execution_count": null,
   "metadata": {},
   "outputs": [],
   "source": [
    "per_fig = 10\n",
    "out_dir = 'Images/Special'\n",
    "os.makedirs(out_dir, exist_ok=True)"
   ]
  },
  {
   "cell_type": "code",
   "execution_count": null,
   "metadata": {},
   "outputs": [],
   "source": [
    "for length, grp in df_sorted_special.groupby(\n",
    "        df_sorted_special['frequency_array'].str.len()\n",
    "    ):\n",
    "    n = len(grp)\n",
    "    n_figs = math.ceil(n / per_fig)\n",
    "    chunk = grp.iloc[fig_i*per_fig:(fig_i+1)*per_fig]\n",
    "    fig_k = len(chunk)\n",
    "    for fig_i in range(n_figs):\n",
    "        chunk = grp.iloc[fig_i*per_fig:min((fig_i+1)*per_fig, len(grp))]\n",
    "        fig_k = len(chunk)\n",
    "        fig, axes = plt.subplots(fig_k, 1, figsize=(10, 3*fig_k))\n",
    "        if fig_k == 1:\n",
    "            axes = [axes]\n",
    "        for ax, row in zip(axes, chunk.itertuples()):\n",
    "            spec = row.amplitude_corr_tsys\n",
    "            a, b = row.win_start, row.win_end\n",
    "            atm_interfs = ast.literal_eval(row.atmospheric_interference)\n",
    "\n",
    "            if len(atm_interfs) != 0:\n",
    "                for item in atm_interfs:\n",
    "                    c, d = item[0], item[1]\n",
    "                    ax.axvspan(c, d, color='C9', alpha=0.2)\n",
    "\n",
    "            x = np.arange(len(spec))\n",
    "            ax.plot(x, spec, color='C0', label=\"Actual\")\n",
    "\n",
    "            ax.axvspan(a, b, color='C1', alpha=0.3)\n",
    "\n",
    "            ax.set_title(\n",
    "                f\"eb_uid={row.eb_uid}, antenna={row.antenna}, polarization={row.polarization}, spw_name_ms={row.spw_name_ms}, score={row.score:.2f}, Range=[{a},{b}]\"\n",
    "            )\n",
    "            ax.set_xlabel(\"Channel\")\n",
    "            ax.set_ylabel(\"Amplitude\")\n",
    "            ax.legend()\n",
    "        plt.tight_layout(rect=[0,0,1,0.92])\n",
    "        plt.suptitle(f\"Items {fig_i*per_fig+1}–{fig_i*per_fig+fig_k}.\", y=0.98)\n",
    "        outpath = os.path.join(out_dir, f\"length_{length}_fig{fig_i+1}.png\")\n",
    "        plt.savefig(outpath, dpi=500, bbox_inches=\"tight\")\n",
    "        plt.close(fig)\n",
    "        if fig_i == 9:\n",
    "            break"
   ]
  },
  {
   "cell_type": "markdown",
   "metadata": {},
   "source": [
    "# Result Exploration"
   ]
  },
  {
   "cell_type": "code",
   "execution_count": null,
   "metadata": {},
   "outputs": [],
   "source": [
    "df_scored = pd.read_parquet(f'science_scored.parquet')"
   ]
  },
  {
   "cell_type": "code",
   "execution_count": null,
   "metadata": {},
   "outputs": [],
   "source": [
    "df_scored.info()"
   ]
  },
  {
   "cell_type": "code",
   "execution_count": null,
   "metadata": {},
   "outputs": [],
   "source": [
    "PRIORITY = {\n",
    "    \"bandpass_amplitude_frequency\",\n",
    "    \"bandpassflag_amplitude_frequency\"        # ← add more as needed\n",
    "}\n",
    "\n",
    "def qa2_flag_code(flags):\n",
    "    \"\"\"\n",
    "    Return 0 / 1 / 2  (no flags / priority flag / other flag).\n",
    "\n",
    "    * priority = any list element whose lower-case *contains* a PRIORITY token\n",
    "    * robust to lists, tuples, numpy arrays, or stringified lists\n",
    "    \"\"\"\n",
    "    import ast, numpy as np, pandas as pd\n",
    "\n",
    "    # ---- normalise to Python list ---------------------------------\n",
    "    if flags is None or (isinstance(flags, float) and pd.isna(flags)):\n",
    "        lst = []\n",
    "    elif isinstance(flags, (list, tuple)):\n",
    "        lst = list(flags)\n",
    "    elif isinstance(flags, np.ndarray):\n",
    "        lst = flags.tolist()\n",
    "    else:\n",
    "        s = str(flags).strip()\n",
    "        if s in (\"\", \"[]\", \"None\"):\n",
    "            lst = []\n",
    "        else:                                # try to parse \"['flag', ...]\"\n",
    "            try:\n",
    "                parsed = ast.literal_eval(s)\n",
    "                lst = list(parsed) if isinstance(parsed, (list, tuple, np.ndarray)) else [s]\n",
    "            except Exception:\n",
    "                lst = [s]\n",
    "\n",
    "    # clean + lower-case for comparison\n",
    "    clean = [str(f).strip().lower() for f in lst]\n",
    "\n",
    "    # ---- classify -------------------------------------------------\n",
    "    if not clean:\n",
    "        return 0\n",
    "\n",
    "    if any(any(token in f for token in PRIORITY) for f in clean):\n",
    "        return 1\n",
    "    return 2"
   ]
  },
  {
   "cell_type": "code",
   "execution_count": null,
   "metadata": {},
   "outputs": [],
   "source": [
    "df_scored[\"qa2flag\"] = df_scored[\"QA2 Flag(s)\"].apply(qa2_flag_code)"
   ]
  },
  {
   "cell_type": "code",
   "execution_count": null,
   "metadata": {},
   "outputs": [],
   "source": [
    "bins = np.round(np.arange(0.0, 1.0001, 0.05), 2)\n",
    "labels = [f\"{bins[i]:.2f}–{bins[i+1]:.2f}\" for i in range(len(bins)-1)]"
   ]
  },
  {
   "cell_type": "code",
   "execution_count": null,
   "metadata": {},
   "outputs": [],
   "source": [
    "df_scored = df_scored.copy()\n",
    "df_scored[\"score_bin\"] = pd.cut(df_scored[\"score\"], bins=bins, labels=labels, include_lowest=True, right=True)\n",
    "\n",
    "counts = (df_scored.loc[df_scored[\"qa2flag\"] == 0]\n",
    "            .groupby(\"score_bin\")\n",
    "            .size()\n",
    "            .reindex(labels, fill_value=0))\n",
    "\n",
    "totals = df_scored.groupby(\"score_bin\").size().reindex(labels, fill_value=0)\n",
    "rates = (counts / totals).fillna(0)"
   ]
  },
  {
   "cell_type": "code",
   "execution_count": null,
   "metadata": {},
   "outputs": [],
   "source": [
    "counts"
   ]
  },
  {
   "cell_type": "code",
   "execution_count": null,
   "metadata": {},
   "outputs": [],
   "source": [
    "fig, ax = plt.subplots(figsize=(12,4))\n",
    "counts.plot(kind=\"bar\", ax=ax, rot=90)\n",
    "ax.set_xlabel(\"Score bin\")\n",
    "ax.set_ylabel(\"Count with qa2flag = 0\")\n",
    "ax.set_title(\"QA2=0 counts by 0.05 score bins\")\n",
    "ax.bar_label(ax.containers[0], labels=[str(int(v)) for v in counts.values], padding=3)\n",
    "plt.tight_layout()\n",
    "plt.show()"
   ]
  },
  {
   "cell_type": "code",
   "execution_count": null,
   "metadata": {},
   "outputs": [],
   "source": [
    "df_scored_false_negative = df_scored[(df_scored['qa2flag'] == 1) & (df_scored['score'] <= 0.3)]"
   ]
  },
  {
   "cell_type": "code",
   "execution_count": null,
   "metadata": {},
   "outputs": [],
   "source": [
    "df_scored_false_negative.info()"
   ]
  },
  {
   "cell_type": "code",
   "execution_count": null,
   "metadata": {},
   "outputs": [],
   "source": [
    "df_scored_false_negative = df_scored_false_negative.copy()"
   ]
  },
  {
   "cell_type": "code",
   "execution_count": null,
   "metadata": {},
   "outputs": [],
   "source": [
    "df_scored_false_negative.drop(columns=['score', 'win_start', 'win_end', 'score_bin'], inplace=True)"
   ]
  },
  {
   "cell_type": "code",
   "execution_count": null,
   "metadata": {},
   "outputs": [],
   "source": [
    "df_scored_false_negative.to_parquet('Data/false_negative.parquet')"
   ]
  },
  {
   "cell_type": "code",
   "execution_count": null,
   "metadata": {},
   "outputs": [],
   "source": [
    "def plot_df(df_slice, per_fig=10, k=None, out_dir=\"Images/false_negative_anaysis\"):\n",
    "    df_slice = df_slice.copy()\n",
    "    df_slice['orig_idx'] = df_slice.index\n",
    "    df_slice['atmospheric_interference'] = df_slice['atmospheric_interference'].apply(ast.literal_eval)\n",
    "    df_slice = df_slice.rename(columns={\"QA2 Flag(s)\": \"QA2_Flags\"})\n",
    "\n",
    "\n",
    "    n_figs = math.ceil(len(df_slice) / per_fig)\n",
    "    for fig_i in range(n_figs):\n",
    "        chunk = df_slice.iloc[fig_i * per_fig : (fig_i + 1) * per_fig]\n",
    "        fig_k = len(chunk)\n",
    "        fig, axes = plt.subplots(fig_k, 1, figsize=(10, 3 * fig_k))\n",
    "        if fig_k == 1:\n",
    "            axes = [axes]\n",
    "\n",
    "        for ax, row in zip(axes, chunk.itertuples(index=False)):\n",
    "            spec = np.array(row.amplitude_corr_tsys)\n",
    "            buffer = spec.shape[0] // 20\n",
    "            a, b = row.win_start, row.win_end\n",
    "            \n",
    "            if len(row.atmospheric_interference) != 0:\n",
    "                for (c, d) in row.atmospheric_interference:\n",
    "                    ax.axvspan(c, d, color='C9', alpha=0.2)\n",
    "\n",
    "            x = np.arange(len(spec))\n",
    "            ax.plot(x, spec, color='C0', label=\"Actual\")\n",
    "\n",
    "            if buffer > 0:\n",
    "                ax.axvspan(0, buffer-1, color='gray', alpha=0.2)\n",
    "                ax.axvspan(len(spec)-buffer, len(spec)-1, color='gray', alpha=0.2)\n",
    "\n",
    "            ax.axvspan(a, b, color='C1', alpha=0.3)\n",
    "\n",
    "            ax.set_title(\n",
    "                f\"eb_uid={row.eb_uid}, antenna={row.antenna}, spw_name_ms={row.spw_name_ms}, polarization={row.polarization}, score={row.score:.2f}, range=[{a},{b}], qa0 flags={row.QA2_Flags}\"\n",
    "            )\n",
    "            ax.set_xlabel(\"Channel\")\n",
    "            ax.set_ylabel(\"Amplitude\")\n",
    "            ax.legend()\n",
    "\n",
    "        plt.tight_layout(rect=[0, 0, 1, 0.92])\n",
    "        plt.suptitle(\n",
    "            f\"Items {fig_i * per_fig + 1}–{fig_i * per_fig + fig_k} of Top {k}.\",\n",
    "            y=0.98\n",
    "        )\n",
    "        outpath = os.path.join(out_dir, f\"top_{k}_fig{fig_i+1}.png\")\n",
    "        plt.savefig(outpath, dpi=300, bbox_inches=\"tight\")\n",
    "        plt.close(fig)"
   ]
  },
  {
   "cell_type": "code",
   "execution_count": null,
   "metadata": {},
   "outputs": [],
   "source": [
    "plot_df(\n",
    "    df_scored_false_negative,\n",
    "    per_fig=8,\n",
    "    k=len(df_scored_false_negative)\n",
    ")"
   ]
  },
  {
   "cell_type": "markdown",
   "metadata": {},
   "source": [
    "# Dataset Creation"
   ]
  },
  {
   "cell_type": "code",
   "execution_count": null,
   "metadata": {},
   "outputs": [],
   "source": [
    "ROOT = Path(\"Data/variable_length_kernel\")\n",
    "OUT  = \"Data/spotcheck.csv\"\n",
    "SEED = 42\n",
    "ORIGINAL_PATH = Path(\"Data/bandpass_qa0_no_partitions_labelled_filt.parquet\")"
   ]
  },
  {
   "cell_type": "code",
   "execution_count": null,
   "metadata": {},
   "outputs": [],
   "source": [
    "TARGET_LENGTHS = {64, 120, 128, 240, 256, 480, 960, 1024, 1920, 2048}"
   ]
  },
  {
   "cell_type": "code",
   "execution_count": null,
   "metadata": {},
   "outputs": [],
   "source": [
    "def load_original() -> pd.DataFrame:\n",
    "    if 'df_original' in globals() and isinstance(df_original, pd.DataFrame):\n",
    "        return df_original\n",
    "    if ORIGINAL_PATH.suffix == \".parquet\":\n",
    "        return pd.read_parquet(ORIGINAL_PATH)\n",
    "    elif ORIGINAL_PATH.suffix == \".csv\":\n",
    "        return pd.read_csv(ORIGINAL_PATH)\n",
    "    raise ValueError(\"Set ORIGINAL_PATH to a .parquet or .csv, or define df_original in memory.\")\n"
   ]
  },
  {
   "cell_type": "code",
   "execution_count": null,
   "metadata": {},
   "outputs": [],
   "source": [
    "def infer_length_from_dir(p: Path) -> int:\n",
    "    m = re.search(r\"length_(\\d+)\", str(p))\n",
    "    if not m:\n",
    "        raise ValueError(f\"Cannot infer length from: {p}\")\n",
    "    return int(m.group(1))"
   ]
  },
  {
   "cell_type": "code",
   "execution_count": null,
   "metadata": {},
   "outputs": [],
   "source": [
    "def filter_original_by_length(df: pd.DataFrame, L: int) -> pd.DataFrame:\n",
    "    if \"length\" in df.columns:\n",
    "        return df[df[\"length\"] == L]\n",
    "    for col in (\"amplitude_corr_tsys\", \"spec_arrays\"):\n",
    "        if col in df.columns:\n",
    "            return df[df[col].map(len) == L]\n",
    "    raise KeyError(\"Could not infer length—provide a 'length' column or an array-like column.\")"
   ]
  },
  {
   "cell_type": "code",
   "execution_count": null,
   "metadata": {},
   "outputs": [],
   "source": [
    "def pick_top10(score_df: pd.DataFrame) -> pd.DataFrame:\n",
    "    if \"score\" in score_df.columns:\n",
    "        top10 = score_df.sort_values(\"score\", ascending=False, kind=\"mergesort\").head(10).copy()\n",
    "    else:\n",
    "        top10 = score_df.head(10).copy()\n",
    "    top10['frequency_array'] = top10['frequency_array'].apply(lambda s: np.array(ast.literal_eval(s), dtype=float))\n",
    "    top10['frequency_array'] = top10['frequency_array'].apply(lambda freqs: [f*1e9 for f in freqs])\n",
    "    top10[\"sample_group\"] = \"top10\"\n",
    "    return top10"
   ]
  },
  {
   "cell_type": "code",
   "execution_count": null,
   "metadata": {},
   "outputs": [],
   "source": [
    "def pick_random10_from_original(orig_len_df: pd.DataFrame, exclude_uids: set) -> pd.DataFrame:\n",
    "    pool = orig_len_df[~orig_len_df[\"uid\"].isin(exclude_uids)]\n",
    "    k = min(10, len(pool))\n",
    "    out = pool.sample(n=k, random_state=SEED, replace=False).copy()\n",
    "    out[\"sample_group\"] = \"random_original\"\n",
    "    return out"
   ]
  },
  {
   "cell_type": "code",
   "execution_count": null,
   "metadata": {},
   "outputs": [],
   "source": [
    "df_full = load_original()\n",
    "if \"uid\" not in df_full.columns:\n",
    "    df_full = df_full.reset_index().rename(columns={\"index\": \"uid\"})\n",
    "\n",
    "samples = []"
   ]
  },
  {
   "cell_type": "code",
   "execution_count": null,
   "metadata": {},
   "outputs": [],
   "source": [
    "for length_dir in ROOT.glob(\"length_*\"):\n",
    "    L = infer_length_from_dir(length_dir)\n",
    "    csvs = sorted(length_dir.glob(\"*.csv\"))\n",
    "    if not csvs:\n",
    "        continue\n",
    "    score_path = csvs[0]  # or choose by name if you have a convention\n",
    "    score_df = pd.read_csv(score_path)\n",
    "\n",
    "    if \"uid\" not in score_df.columns:\n",
    "        raise KeyError(f\"'uid' missing in {score_path}\")\n",
    "\n",
    "    top10 = pick_top10(score_df)\n",
    "\n",
    "    orig_len_df = filter_original_by_length(df_full, L)\n",
    "    rand10 = pick_random10_from_original(orig_len_df, exclude_uids=set(top10[\"uid\"]))\n",
    "\n",
    "    samples.append(pd.concat([top10, rand10], ignore_index=True))"
   ]
  },
  {
   "cell_type": "code",
   "execution_count": null,
   "metadata": {},
   "outputs": [],
   "source": [
    "final = pd.concat(samples, ignore_index=True)\n",
    "final.drop(columns=['uid', 'transmission_array', 'atmospheric_interference', 'score', 'kernel_size', 'win_start', 'win_end', 'sample_group'], inplace=True)"
   ]
  },
  {
   "cell_type": "code",
   "execution_count": null,
   "metadata": {},
   "outputs": [],
   "source": [
    "final.info()"
   ]
  },
  {
   "cell_type": "code",
   "execution_count": null,
   "metadata": {},
   "outputs": [],
   "source": [
    "final.to_csv(OUT, index=False, sep='|')"
   ]
  }
 ],
 "metadata": {
  "analyzedDataset": "asdm_bandpass_qa0",
  "createdOn": 1743190112265,
  "creator": "ignacio.toledo",
  "customFields": {},
  "hide_input": false,
  "kernelspec": {
   "display_name": "CosmicAI",
   "language": "python",
   "name": "python3"
  },
  "language_info": {
   "codemirror_mode": {
    "name": "ipython",
    "version": 3
   },
   "file_extension": ".py",
   "mimetype": "text/x-python",
   "name": "python",
   "nbconvert_exporter": "python",
   "pygments_lexer": "ipython3",
   "version": "3.8.20"
  },
  "modifiedBy": "ignacio.toledo",
  "tags": []
 },
 "nbformat": 4,
 "nbformat_minor": 1
}
